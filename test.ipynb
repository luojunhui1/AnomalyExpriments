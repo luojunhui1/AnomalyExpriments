{
 "cells": [
  {
   "cell_type": "code",
   "execution_count": 1,
   "metadata": {},
   "outputs": [],
   "source": [
    "from utils.cluster import *\n",
    "from utils.geo import *\n",
    "from utils.loaddata import *\n",
    "from utils.utils import *"
   ]
  },
  {
   "cell_type": "code",
   "execution_count": 2,
   "metadata": {},
   "outputs": [
    {
     "name": "stdout",
     "output_type": "stream",
     "text": [
      "(2184, 2, 32, 32)\n",
      "time interval amounts(1 hour):  2184\n",
      "grid horizontal amounts:  32\n",
      "grid vertical amounts:  32\n"
     ]
    }
   ],
   "source": [
    "data = get_h5data(\"./data/UnicomBJ_flows.h5\")\n",
    "print(data.shape)\n",
    "print(\"time interval amounts(1 hour): \", data.shape[0])\n",
    "print(\"grid horizontal amounts: \", data.shape[2])\n",
    "print(\"grid vertical amounts: \", data.shape[3])"
   ]
  },
  {
   "cell_type": "code",
   "execution_count": 3,
   "metadata": {},
   "outputs": [
    {
     "name": "stdout",
     "output_type": "stream",
     "text": [
      "inflow_norm shape:  (1024, 2184) outflow_norm shape:  (1024, 2184)\n"
     ]
    }
   ],
   "source": [
    "inflow = data[:, 0, :, :].reshape(len(data), -1).T\n",
    "outflow = data[:, 0, :, :].reshape(len(data), -1).T\n",
    "\n",
    "# normalize\n",
    "inflow_norm = norm_by_row(inflow)\n",
    "outflow_norm = norm_by_row(outflow)\n",
    "\n",
    "print(\"inflow_norm shape: \", inflow_norm.shape, \\\n",
    "    \"outflow_norm shape: \", outflow_norm.shape)"
   ]
  },
  {
   "cell_type": "code",
   "execution_count": 5,
   "metadata": {},
   "outputs": [],
   "source": [
    "# cluster expriments\n",
    "import matplotlib.pyplot as plt\n",
    "from numpy import *\n",
    "from tqdm import *\n",
    "\n",
    "cluster_methods = ['kmeans', 'kpp_means', 'bi_kmeans', 'dbscan', 'Optics']\n",
    "\n",
    "# kmeans耗时过长，在k=12是就呈现出无法收敛的状态，平均每次聚类耗费时间10m以上\n",
    "kmeans_sse = []\n",
    "kmeans_stds = []\n",
    "for i in trange(3, 30):\n",
    "    cur_sses = []\n",
    "    for j in trange(0, 10):\n",
    "        centroid, cluster_assment = kmeans(inflow_norm, i)\n",
    "        cur_sses.append(sum(cluster_assment[:,1]))\n",
    "        print(cur_sses[-1])\n",
    "    kmeans_sse.append(sum(cur_sses)/10)\n",
    "    kmeans_stds.append(std(cur_sses, ddof=1))"
   ]
  },
  {
   "cell_type": "code",
   "execution_count": 24,
   "metadata": {},
   "outputs": [
    {
     "data": {
      "image/png": "[encoded data removed]",
      "text/plain": [
       "<Figure size 432x288 with 1 Axes>"
      ]
     },
     "metadata": {
      "needs_background": "light"
     },
     "output_type": "display_data"
    }
   ],
   "source": [
    "plt.plot(range(3, 16), kmeans_sse, c='r', ls=':', marker='s', label='sse')\n",
    "plt.plot(range(3, 16), kmeans_stds, c='b', ls=':', marker='s', label='std')\n",
    "plt.legend()\n",
    "plt.xticks(range(3, 30))\n",
    "plt.show()"
   ]
  },
  {
   "cell_type": "code",
   "execution_count": 7,
   "metadata": {},
   "outputs": [
    {
     "name": "stderr",
     "output_type": "stream",
     "text": [
      "100%|██████████| 10/10 [00:49<00:00,  4.97s/it]\n",
      "100%|██████████| 10/10 [01:28<00:00,  8.83s/it]\n",
      "100%|██████████| 10/10 [02:19<00:00, 13.99s/it]\n",
      "100%|██████████| 10/10 [03:15<00:00, 19.53s/it]\n",
      " 80%|████████  | 8/10 [03:16<00:49, 24.51s/it]]\n",
      " 15%|█▍        | 4/27 [11:09<1:04:08, 167.31s/it]\n"
     ]
    },
    {
     "ename": "KeyboardInterrupt",
     "evalue": "",
     "output_type": "error",
     "traceback": [
      "\u001b[1;31m---------------------------------------------------------------------------\u001b[0m",
      "\u001b[1;31mKeyboardInterrupt\u001b[0m                         Traceback (most recent call last)",
      "\u001b[1;32md:\\luojunhui1\\Documents\\Work\\2022-4\\EssayExpriment\\test.ipynb Cell 5'\u001b[0m in \u001b[0;36m<module>\u001b[1;34m\u001b[0m\n\u001b[0;32m      <a href='vscode-notebook-cell:/d%3A/luojunhui1/Documents/Work/2022-4/EssayExpriment/test.ipynb#ch0000008?line=3'>4</a>\u001b[0m cur_sses \u001b[39m=\u001b[39m []\n\u001b[0;32m      <a href='vscode-notebook-cell:/d%3A/luojunhui1/Documents/Work/2022-4/EssayExpriment/test.ipynb#ch0000008?line=4'>5</a>\u001b[0m \u001b[39mfor\u001b[39;00m j \u001b[39min\u001b[39;00m trange(\u001b[39m0\u001b[39m, \u001b[39m10\u001b[39m):\n\u001b[1;32m----> <a href='vscode-notebook-cell:/d%3A/luojunhui1/Documents/Work/2022-4/EssayExpriment/test.ipynb#ch0000008?line=5'>6</a>\u001b[0m     centroid, cluster_assment \u001b[39m=\u001b[39m kpp_means(mat(inflow_norm), i)\n\u001b[0;32m      <a href='vscode-notebook-cell:/d%3A/luojunhui1/Documents/Work/2022-4/EssayExpriment/test.ipynb#ch0000008?line=6'>7</a>\u001b[0m     cur_sses\u001b[39m.\u001b[39mappend(\u001b[39msum\u001b[39m(cluster_assment[:,\u001b[39m1\u001b[39m]))\n\u001b[0;32m      <a href='vscode-notebook-cell:/d%3A/luojunhui1/Documents/Work/2022-4/EssayExpriment/test.ipynb#ch0000008?line=7'>8</a>\u001b[0m kpp_means_sse\u001b[39m.\u001b[39mappend(\u001b[39msum\u001b[39m(cur_sses)\u001b[39m/\u001b[39m\u001b[39m10\u001b[39m)\n",
      "File \u001b[1;32md:\\luojunhui1\\Documents\\Work\\2022-4\\EssayExpriment\\utils\\cluster.py:134\u001b[0m, in \u001b[0;36mkpp_means\u001b[1;34m(data_mat, k, dist, create_cent)\u001b[0m\n\u001b[0;32m    <a href='file:///d%3A/luojunhui1/Documents/Work/2022-4/EssayExpriment/utils/cluster.py?line=131'>132</a>\u001b[0m min_dist \u001b[39m=\u001b[39m inf\n\u001b[0;32m    <a href='file:///d%3A/luojunhui1/Documents/Work/2022-4/EssayExpriment/utils/cluster.py?line=132'>133</a>\u001b[0m \u001b[39mfor\u001b[39;00m j \u001b[39min\u001b[39;00m \u001b[39mrange\u001b[39m(k):\n\u001b[1;32m--> <a href='file:///d%3A/luojunhui1/Documents/Work/2022-4/EssayExpriment/utils/cluster.py?line=133'>134</a>\u001b[0m \tdistance \u001b[39m=\u001b[39m \u001b[39meval\u001b[39;49m(dist)(data_mat[i, :], centroid[j, :])\n\u001b[0;32m    <a href='file:///d%3A/luojunhui1/Documents/Work/2022-4/EssayExpriment/utils/cluster.py?line=134'>135</a>\u001b[0m \t\u001b[39mif\u001b[39;00m distance \u001b[39m<\u001b[39m min_dist:\n\u001b[0;32m    <a href='file:///d%3A/luojunhui1/Documents/Work/2022-4/EssayExpriment/utils/cluster.py?line=135'>136</a>\u001b[0m \t\tmin_dist \u001b[39m=\u001b[39m distance\n",
      "File \u001b[1;32md:\\luojunhui1\\Documents\\Work\\2022-4\\EssayExpriment\\utils\\cluster.py:17\u001b[0m, in \u001b[0;36mdist_eucl\u001b[1;34m(vecA, vecB)\u001b[0m\n\u001b[0;32m     <a href='file:///d%3A/luojunhui1/Documents/Work/2022-4/EssayExpriment/utils/cluster.py?line=9'>10</a>\u001b[0m \u001b[39mdef\u001b[39;00m \u001b[39mdist_eucl\u001b[39m(vecA, vecB):\n\u001b[0;32m     <a href='file:///d%3A/luojunhui1/Documents/Work/2022-4/EssayExpriment/utils/cluster.py?line=10'>11</a>\u001b[0m     \u001b[39m\"\"\"\u001b[39;00m\n\u001b[0;32m     <a href='file:///d%3A/luojunhui1/Documents/Work/2022-4/EssayExpriment/utils/cluster.py?line=11'>12</a>\u001b[0m \u001b[39m    @brief      the similarity function\u001b[39;00m\n\u001b[0;32m     <a href='file:///d%3A/luojunhui1/Documents/Work/2022-4/EssayExpriment/utils/cluster.py?line=12'>13</a>\u001b[0m \u001b[39m    @param      vecA  The vector a\u001b[39;00m\n\u001b[0;32m     <a href='file:///d%3A/luojunhui1/Documents/Work/2022-4/EssayExpriment/utils/cluster.py?line=13'>14</a>\u001b[0m \u001b[39m    @param      vecB  The vector b\u001b[39;00m\n\u001b[0;32m     <a href='file:///d%3A/luojunhui1/Documents/Work/2022-4/EssayExpriment/utils/cluster.py?line=14'>15</a>\u001b[0m \u001b[39m    @return     the euclidean distance\u001b[39;00m\n\u001b[0;32m     <a href='file:///d%3A/luojunhui1/Documents/Work/2022-4/EssayExpriment/utils/cluster.py?line=15'>16</a>\u001b[0m \u001b[39m    \"\"\"\u001b[39;00m\n\u001b[1;32m---> <a href='file:///d%3A/luojunhui1/Documents/Work/2022-4/EssayExpriment/utils/cluster.py?line=16'>17</a>\u001b[0m     \u001b[39mreturn\u001b[39;00m sqrt(\u001b[39msum\u001b[39m(power(vecA \u001b[39m-\u001b[39;49m vecB, \u001b[39m2\u001b[39;49m)))\n",
      "\u001b[1;31mKeyboardInterrupt\u001b[0m: "
     ]
    }
   ],
   "source": [
    "kpp_means_sse = []\n",
    "kpp_means_stds = []\n",
    "for i in trange(3, 30):\n",
    "    cur_sses = []\n",
    "    for j in trange(0, 10):\n",
    "        centroid, cluster_assment = kpp_means(mat(inflow_norm), i)\n",
    "        cur_sses.append(sum(cluster_assment[:,1]))\n",
    "    kpp_means_sse.append(sum(cur_sses)/10)\n",
    "    kpp_means_stds.append(std(cur_sses, ddof=1))"
   ]
  }
 ],
 "metadata": {
  "interpreter": {
   "hash": "247bb0b98561dbd1e87aec100d31597db1e4838b43ad506558e3db49908a46df"
  },
  "kernelspec": {
   "display_name": "Python 3.9.7 ('usual')",
   "language": "python",
   "name": "python3"
  },
  "language_info": {
   "codemirror_mode": {
    "name": "ipython",
    "version": 3
   },
   "file_extension": ".py",
   "mimetype": "text/x-python",
   "name": "python",
   "nbconvert_exporter": "python",
   "pygments_lexer": "ipython3",
   "version": "3.9.7"
  },
  "orig_nbformat": 4
 },
 "nbformat": 4,
 "nbformat_minor": 2
}
